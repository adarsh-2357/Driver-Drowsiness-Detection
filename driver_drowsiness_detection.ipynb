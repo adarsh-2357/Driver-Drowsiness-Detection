{
 "cells": [
  {
   "cell_type": "markdown",
   "id": "87cc7c43",
   "metadata": {},
   "source": [
    "# Driver Drowsiness Detection\n",
    "This project detects driver drowsiness using a Convolutional Neural Network (CNN) built on top of the InceptionV3 model. It classifies eye states (open/closed) using image data, trained on the MRL Eye Dataset.\n",
    "\n",
    "Model was trained on Kaggle, and real-time detection is handled separately via a Python script."
   ]
  },
  {
   "cell_type": "markdown",
   "id": "a0785857",
   "metadata": {},
   "source": [
    "## 📁 Dataset\n",
    "The dataset used is the **MRL Eye Dataset**, containing labeled images of eyes (open and closed). Data is split into training, validation, and testing subsets."
   ]
  },
  {
   "cell_type": "code",
   "execution_count": null,
   "id": "400f2aae",
   "metadata": {},
   "outputs": [],
   "source": [
    "# Directory setup and imports\n",
    "import numpy as np\n",
    "import pandas as pd\n",
    "import tensorflow as tf\n",
    "from tensorflow.keras.preprocessing.image import ImageDataGenerator\n",
    "from tensorflow.keras.applications import InceptionV3\n",
    "from tensorflow.keras.models import Model\n",
    "from tensorflow.keras.layers import Input, Flatten, Dense, Dropout\n",
    "from tensorflow.keras.callbacks import ModelCheckpoint, EarlyStopping, ReduceLROnPlateau"
   ]
  },
  {
   "cell_type": "markdown",
   "id": "ee7e917c",
   "metadata": {},
   "source": [
    "## 🧪 Image Preprocessing\n",
    "We use ImageDataGenerator for preprocessing and augmentation."
   ]
  },
  {
   "cell_type": "code",
   "execution_count": null,
   "id": "3ff5b106",
   "metadata": {},
   "outputs": [],
   "source": [
    "IMG_SIZE = 80\n",
    "BATCH_SIZE = 8\n",
    "\n",
    "train_datagen = ImageDataGenerator(\n",
    "    rescale=1./255,\n",
    "    rotation_range=0.2,\n",
    "    shear_range=0.2,\n",
    "    zoom_range=0.2,\n",
    "    width_shift_range=0.2,\n",
    "    height_shift_range=0.2,\n",
    "    validation_split=0.2\n",
    ")\n",
    "\n",
    "# Replace with your dataset path\n",
    "train_data = train_datagen.flow_from_directory(\n",
    "    'path_to_train_folder',\n",
    "    target_size=(IMG_SIZE, IMG_SIZE),\n",
    "    batch_size=BATCH_SIZE,\n",
    "    class_mode='categorical',\n",
    "    subset='training')\n",
    "\n",
    "validation_data = train_datagen.flow_from_directory(\n",
    "    'path_to_train_folder',\n",
    "    target_size=(IMG_SIZE, IMG_SIZE),\n",
    "    batch_size=BATCH_SIZE,\n",
    "    class_mode='categorical',\n",
    "    subset='validation')"
   ]
  },
  {
   "cell_type": "markdown",
   "id": "a2f3a02c",
   "metadata": {},
   "source": [
    "## 🧠 Model Architecture (InceptionV3)\n",
    "Transfer learning is used with InceptionV3 (pre-trained on ImageNet). Custom layers are added on top."
   ]
  },
  {
   "cell_type": "code",
   "execution_count": null,
   "id": "5c89c0bd",
   "metadata": {},
   "outputs": [],
   "source": [
    "base_model = InceptionV3(\n",
    "    include_top=False,\n",
    "    weights='imagenet',\n",
    "    input_tensor=Input(shape=(IMG_SIZE, IMG_SIZE, 3))\n",
    ")\n",
    "\n",
    "for layer in base_model.layers:\n",
    "    layer.trainable = False\n",
    "\n",
    "x = base_model.output\n",
    "x = Flatten()(x)\n",
    "x = Dense(64, activation='relu')(x)\n",
    "x = Dropout(0.5)(x)\n",
    "predictions = Dense(2, activation='softmax')(x)\n",
    "\n",
    "model = Model(inputs=base_model.input, outputs=predictions)"
   ]
  },
  {
   "cell_type": "markdown",
   "id": "40f43275",
   "metadata": {},
   "source": [
    "## ⚙️ Compilation and Training"
   ]
  },
  {
   "cell_type": "code",
   "execution_count": null,
   "id": "e0b51e39",
   "metadata": {},
   "outputs": [],
   "source": [
    "model.compile(\n",
    "    optimizer='adam',\n",
    "    loss='categorical_crossentropy',\n",
    "    metrics=['accuracy']\n",
    ")\n",
    "\n",
    "checkpoint = ModelCheckpoint('best_model.h5', monitor='val_accuracy', save_best_only=True)\n",
    "early_stopping = EarlyStopping(monitor='val_loss', patience=7, restore_best_weights=True)\n",
    "reduce_lr = ReduceLROnPlateau(monitor='val_loss', patience=3)\n",
    "\n",
    "history = model.fit(\n",
    "    train_data,\n",
    "    validation_data=validation_data,\n",
    "    epochs=30,\n",
    "    callbacks=[checkpoint, early_stopping, reduce_lr],\n",
    "    verbose=1\n",
    ")"
   ]
  },
  {
   "cell_type": "markdown",
   "id": "0fbe547d",
   "metadata": {},
   "source": [
    "## ✅ Evaluation\n",
    "Evaluate performance on training and validation sets."
   ]
  },
  {
   "cell_type": "code",
   "execution_count": null,
   "id": "15f90e25",
   "metadata": {},
   "outputs": [],
   "source": [
    "acc_train, loss_train = model.evaluate(train_data)\n",
    "acc_val, loss_val = model.evaluate(validation_data)\n",
    "print(f'Training Accuracy: {acc_train}, Loss: {loss_train}')\n",
    "print(f'Validation Accuracy: {acc_val}, Loss: {loss_val}')"
   ]
  },
  {
   "cell_type": "markdown",
   "id": "0df3b980",
   "metadata": {},
   "source": [
    "## 🎥 Real-Time Drowsiness Detection (Separate Script)\n",
    "The real-time webcam-based drowsiness detection is implemented in a **separate Python script** (`webcam_detection.py`).\n",
    "\n",
    "To run the live detection system:\n",
    "```bash\n",
    "python webcam_detection.py\n",
    "```\n",
    "\n",
    "Make sure the following files are present:\n",
    "- `best_model.h5` (trained model)\n",
    "- `alarm.wav` (alarm sound)\n",
    "- Twilio credentials & ngrok URL configured inside the script"
   ]
  }
 ],
 "metadata": {},
 "nbformat": 4,
 "nbformat_minor": 5
}
